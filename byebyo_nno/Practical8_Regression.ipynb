{
 "cells": [
  {
   "cell_type": "markdown",
   "metadata": {},
   "source": [
    "## INFERENTIAL STATISTICS:\n",
    "## REGRESSION ANALYSIS"
   ]
  },
  {
   "cell_type": "markdown",
   "metadata": {},
   "source": [
    "**To create the Regression Model here is the following steps**\n",
    "\n",
    "1. Define the Problem:\n",
    "- Figure out what you want to predict or explain (the outcome/dependent variable).\n",
    "- Identify the factors that might influence this outcome.\n",
    "\n",
    "2. Gather Data:\n",
    "- Collect information related to your problem.\n",
    "- Make sure the data is clean and accurate.\n",
    "\n",
    "3. Explore the Data:\n",
    "- Look for patterns and relationships between the factors and the outcome.\n",
    "- Use charts and graphs to visualize the data and stats.\n",
    "\n",
    "4. Choose a Model:\n",
    "- Select a type of model that best fits your problem (e.g., linear, logistic).\n",
    "\n",
    "5. Train the Model:\n",
    "- Teach the model to recognize patterns in the data.\n",
    "- Use part of your data to train the model (70-80%)\n",
    "\n",
    "6. Test the Model:\n",
    "- Use a different part of your data (20-30%) to see how well the model works.\n",
    "- Check if it can accurately predict outcomes.\n",
    "\n",
    "7. Make Predictions:\n",
    "- Use the trained model to predict new outcomes based on new data.\n",
    "\n",
    "8. Interpret Results:\n",
    "- Understand what the model learned from the data.\n",
    "- Explain how the factors influence the outcome."
   ]
  },
  {
   "attachments": {
    "image.png": {
     "image/png": "[encoded data removed]"
    }
   },
   "cell_type": "markdown",
   "metadata": {},
   "source": [
    "# 1. Simple Linear Regression\n",
    "- The dependent/target variable is continuous\n",
    "- Relationship between the indepedent/predictor variable and dependent/target variable is linear\n",
    "- Applies to only two variables (one dependent, one independent)\n",
    "![image.png](attachment:image.png)"
   ]
  },
  {
   "cell_type": "code",
   "execution_count": 2,
   "metadata": {},
   "outputs": [
    {
     "data": {
      "text/html": [
       "<div>\n",
       "<style scoped>\n",
       "    .dataframe tbody tr th:only-of-type {\n",
       "        vertical-align: middle;\n",
       "    }\n",
       "\n",
       "    .dataframe tbody tr th {\n",
       "        vertical-align: top;\n",
       "    }\n",
       "\n",
       "    .dataframe thead th {\n",
       "        text-align: right;\n",
       "    }\n",
       "</style>\n",
       "<table border=\"1\" class=\"dataframe\">\n",
       "  <thead>\n",
       "    <tr style=\"text-align: right;\">\n",
       "      <th></th>\n",
       "      <th>Date</th>\n",
       "      <th>Day</th>\n",
       "      <th>Month</th>\n",
       "      <th>Year</th>\n",
       "      <th>Customer_Age</th>\n",
       "      <th>Age_Group</th>\n",
       "      <th>Customer_Gender</th>\n",
       "      <th>Country</th>\n",
       "      <th>State</th>\n",
       "      <th>Product_Category</th>\n",
       "      <th>Sub_Category</th>\n",
       "      <th>Product</th>\n",
       "      <th>Order_Quantity</th>\n",
       "      <th>Unit_Cost</th>\n",
       "      <th>Unit_Price</th>\n",
       "      <th>Profit</th>\n",
       "      <th>Cost</th>\n",
       "      <th>Revenue</th>\n",
       "    </tr>\n",
       "  </thead>\n",
       "  <tbody>\n",
       "    <tr>\n",
       "      <th>0</th>\n",
       "      <td>2017-01-01</td>\n",
       "      <td>1</td>\n",
       "      <td>January</td>\n",
       "      <td>2017</td>\n",
       "      <td>17</td>\n",
       "      <td>Youth (&lt;25)</td>\n",
       "      <td>M</td>\n",
       "      <td>Canada</td>\n",
       "      <td>British Columbia</td>\n",
       "      <td>Bikes</td>\n",
       "      <td>Road Bikes</td>\n",
       "      <td>Road-250 Red, 44</td>\n",
       "      <td>2</td>\n",
       "      <td>1519</td>\n",
       "      <td>2443</td>\n",
       "      <td>1848</td>\n",
       "      <td>3038</td>\n",
       "      <td>4886</td>\n",
       "    </tr>\n",
       "    <tr>\n",
       "      <th>1</th>\n",
       "      <td>2017-01-01</td>\n",
       "      <td>1</td>\n",
       "      <td>January</td>\n",
       "      <td>2017</td>\n",
       "      <td>23</td>\n",
       "      <td>Youth (&lt;25)</td>\n",
       "      <td>M</td>\n",
       "      <td>Australia</td>\n",
       "      <td>Victoria</td>\n",
       "      <td>Bikes</td>\n",
       "      <td>Mountain Bikes</td>\n",
       "      <td>Mountain-200 Black, 46</td>\n",
       "      <td>2</td>\n",
       "      <td>1252</td>\n",
       "      <td>2295</td>\n",
       "      <td>2086</td>\n",
       "      <td>2504</td>\n",
       "      <td>4590</td>\n",
       "    </tr>\n",
       "    <tr>\n",
       "      <th>2</th>\n",
       "      <td>2017-01-01</td>\n",
       "      <td>1</td>\n",
       "      <td>January</td>\n",
       "      <td>2017</td>\n",
       "      <td>33</td>\n",
       "      <td>Young Adults (25-34)</td>\n",
       "      <td>F</td>\n",
       "      <td>France</td>\n",
       "      <td>Yveline</td>\n",
       "      <td>Bikes</td>\n",
       "      <td>Road Bikes</td>\n",
       "      <td>Road-150 Red, 48</td>\n",
       "      <td>2</td>\n",
       "      <td>2171</td>\n",
       "      <td>3578</td>\n",
       "      <td>2814</td>\n",
       "      <td>4342</td>\n",
       "      <td>7156</td>\n",
       "    </tr>\n",
       "    <tr>\n",
       "      <th>3</th>\n",
       "      <td>2017-01-01</td>\n",
       "      <td>1</td>\n",
       "      <td>January</td>\n",
       "      <td>2017</td>\n",
       "      <td>39</td>\n",
       "      <td>Adults (35-64)</td>\n",
       "      <td>M</td>\n",
       "      <td>United States</td>\n",
       "      <td>Washington</td>\n",
       "      <td>Bikes</td>\n",
       "      <td>Road Bikes</td>\n",
       "      <td>Road-550-W Yellow, 38</td>\n",
       "      <td>2</td>\n",
       "      <td>713</td>\n",
       "      <td>1120</td>\n",
       "      <td>814</td>\n",
       "      <td>1426</td>\n",
       "      <td>2240</td>\n",
       "    </tr>\n",
       "    <tr>\n",
       "      <th>4</th>\n",
       "      <td>2017-01-01</td>\n",
       "      <td>1</td>\n",
       "      <td>January</td>\n",
       "      <td>2017</td>\n",
       "      <td>42</td>\n",
       "      <td>Adults (35-64)</td>\n",
       "      <td>M</td>\n",
       "      <td>United States</td>\n",
       "      <td>California</td>\n",
       "      <td>Bikes</td>\n",
       "      <td>Road Bikes</td>\n",
       "      <td>Road-750 Black, 44</td>\n",
       "      <td>2</td>\n",
       "      <td>344</td>\n",
       "      <td>540</td>\n",
       "      <td>392</td>\n",
       "      <td>688</td>\n",
       "      <td>1080</td>\n",
       "    </tr>\n",
       "  </tbody>\n",
       "</table>\n",
       "</div>"
      ],
      "text/plain": [
       "        Date  Day    Month  Year  Customer_Age             Age_Group  \\\n",
       "0 2017-01-01    1  January  2017            17           Youth (<25)   \n",
       "1 2017-01-01    1  January  2017            23           Youth (<25)   \n",
       "2 2017-01-01    1  January  2017            33  Young Adults (25-34)   \n",
       "3 2017-01-01    1  January  2017            39        Adults (35-64)   \n",
       "4 2017-01-01    1  January  2017            42        Adults (35-64)   \n",
       "\n",
       "  Customer_Gender        Country             State Product_Category  \\\n",
       "0               M         Canada  British Columbia            Bikes   \n",
       "1               M      Australia          Victoria            Bikes   \n",
       "2               F         France           Yveline            Bikes   \n",
       "3               M  United States        Washington            Bikes   \n",
       "4               M  United States        California            Bikes   \n",
       "\n",
       "     Sub_Category                 Product  Order_Quantity  Unit_Cost  \\\n",
       "0      Road Bikes        Road-250 Red, 44               2       1519   \n",
       "1  Mountain Bikes  Mountain-200 Black, 46               2       1252   \n",
       "2      Road Bikes        Road-150 Red, 48               2       2171   \n",
       "3      Road Bikes   Road-550-W Yellow, 38               2        713   \n",
       "4      Road Bikes      Road-750 Black, 44               2        344   \n",
       "\n",
       "   Unit_Price  Profit  Cost  Revenue  \n",
       "0        2443    1848  3038     4886  \n",
       "1        2295    2086  2504     4590  \n",
       "2        3578    2814  4342     7156  \n",
       "3        1120     814  1426     2240  \n",
       "4         540     392   688     1080  "
      ]
     },
     "execution_count": 2,
     "metadata": {},
     "output_type": "execute_result"
    }
   ],
   "source": [
    "#Import libraries\n",
    "import numpy as np\n",
    "import pandas as pd\n",
    "import statsmodels.api as sm\n",
    "import seaborn as sns\n",
    "import matplotlib.pyplot as plt\n",
    "\n",
    "#Import dataset\n",
    "data=pd.read_excel(\"Bike_Sales.xlsx\")\n",
    "\n",
    "#View dataframe\n",
    "data.head()"
   ]
  },
  {
   "cell_type": "markdown",
   "metadata": {},
   "source": [
    "**A. Check relationship between independent (Profit) and dependent variable (Revenue)**"
   ]
  },
  {
   "cell_type": "code",
   "execution_count": 3,
   "metadata": {},
   "outputs": [
    {
     "data": {
      "text/plain": [
       "<Axes: >"
      ]
     },
     "execution_count": 3,
     "metadata": {},
     "output_type": "execute_result"
    },
    {
     "data": {
      "image/png": "[encoded data removed]",
      "text/plain": [
       "<Figure size 1600x600 with 2 Axes>"
      ]
     },
     "metadata": {},
     "output_type": "display_data"
    }
   ],
   "source": [
    "#Correlation between continuous variables and target Revenue\n",
    "Variables=['Day', 'Year', 'Customer_Age', 'Order_Quantity', 'Unit_Cost', 'Unit_Price', 'Profit', 'Cost', 'Revenue']\n",
    "#Plot the heatmap\n",
    "plt.figure(figsize=(16,6))\n",
    "sns.heatmap(data[Variables].corr(), annot=True)"
   ]
  },
  {
   "cell_type": "markdown",
   "metadata": {},
   "source": [
    "Revenue has a strong linear relationship with Unit_Cost, Unit_PRice, Profit and  Cost"
   ]
  },
  {
   "cell_type": "code",
   "execution_count": 7,
   "metadata": {},
   "outputs": [
    {
     "data": {
      "text/plain": [
       "array([1848, 2086, 2814, ...,  407, 1043,  407])"
      ]
     },
     "execution_count": 7,
     "metadata": {},
     "output_type": "execute_result"
    }
   ],
   "source": [
    "#Select the x=indepedent, and y=dependent variables\n",
    "x=data['Profit']\n",
    "y=data['Revenue']\n",
    "#Transform the x and y variables as numpy arrays\n",
    "x, y = np.array(x), np.array(y)\n",
    "\n",
    "#View variables\n",
    "x"
   ]
  },
  {
   "cell_type": "code",
   "execution_count": 8,
   "metadata": {},
   "outputs": [
    {
     "data": {
      "text/plain": [
       "array([[1.000e+00, 1.848e+03],\n",
       "       [1.000e+00, 2.086e+03],\n",
       "       [1.000e+00, 2.814e+03],\n",
       "       ...,\n",
       "       [1.000e+00, 4.070e+02],\n",
       "       [1.000e+00, 1.043e+03],\n",
       "       [1.000e+00, 4.070e+02]])"
      ]
     },
     "execution_count": 8,
     "metadata": {},
     "output_type": "execute_result"
    }
   ],
   "source": [
    "#For statsmodel to calculate the intercept (The value of y when x is 0), you need to add a column of 1's to the independent variable (x or Profit)\n",
    "x = sm.add_constant(x)\n",
    "#view result\n",
    "x"
   ]
  },
  {
   "cell_type": "markdown",
   "metadata": {},
   "source": [
    "**B. Generate linear model using ordinary least squares (OLS)**"
   ]
  },
  {
   "cell_type": "code",
   "execution_count": 29,
   "metadata": {},
   "outputs": [
    {
     "name": "stdout",
     "output_type": "stream",
     "text": [
      "                            OLS Regression Results                            \n",
      "==============================================================================\n",
      "Dep. Variable:                      y   R-squared:                       0.973\n",
      "Model:                            OLS   Adj. R-squared:                  0.973\n",
      "Method:                 Least Squares   F-statistic:                 4.002e+06\n",
      "Date:                Thu, 07 Nov 2024   Prob (F-statistic):               0.00\n",
      "Time:                        18:04:34   Log-Likelihood:            -7.8131e+05\n",
      "No. Observations:              113036   AIC:                         1.563e+06\n",
      "Df Residuals:                  113034   BIC:                         1.563e+06\n",
      "Df Model:                           1                                         \n",
      "Covariance Type:            nonrobust                                         \n",
      "==============================================================================\n",
      "                 coef    std err          t      P>|t|      [0.025      0.975]\n",
      "------------------------------------------------------------------------------\n",
      "const        -63.5401      0.853    -74.505      0.000     -65.212     -61.869\n",
      "x1             2.4298      0.001   2000.481      0.000       2.427       2.432\n",
      "==============================================================================\n",
      "Omnibus:                    16441.711   Durbin-Watson:                   1.780\n",
      "Prob(Omnibus):                  0.000   Jarque-Bera (JB):           262211.551\n",
      "Skew:                          -0.025   Prob(JB):                         0.00\n",
      "Kurtosis:                      10.461   Cond. No.                         828.\n",
      "==============================================================================\n",
      "\n",
      "Notes:\n",
      "[1] Standard Errors assume that the covariance matrix of the errors is correctly specified.\n"
     ]
    }
   ],
   "source": [
    "# Generate a linear model based on ordinary least squares (OLS) \n",
    "#This is an instance of the class statsmodels.regression.linear_model.OLS\n",
    "model = sm.OLS(y, x)#Notice that the first argument is the dependent variable, followed by the input (independent variable)\n",
    "#Fit the model and get results\n",
    "results = model.fit()\n",
    "\n",
    "#View the results\n",
    "print(results.summary())"
   ]
  },
  {
   "cell_type": "markdown",
   "metadata": {},
   "source": [
    "Intereprete results at https://www.statsmodels.org/stable/generated/statsmodels.regression.linear_model.RegressionResults.html"
   ]
  },
  {
   "cell_type": "markdown",
   "metadata": {},
   "source": [
    "**C. Use the model to make predictions/inferences**\n",
    "- You can obtain the predicted response(Revenue) on the input values(x) used for creating the model using .fittedvalues or .predict() with the input array as the argument:"
   ]
  },
  {
   "cell_type": "code",
   "execution_count": 12,
   "metadata": {},
   "outputs": [
    {
     "name": "stdout",
     "output_type": "stream",
     "text": [
      "predicted response:\n",
      "[4426.72517339 5005.01690945 6773.90927857 ...  925.38739331 2470.73841908\n",
      "  925.38739331]\n"
     ]
    }
   ],
   "source": [
    "print(f\"predicted response:\\n{results.fittedvalues}\")"
   ]
  },
  {
   "cell_type": "code",
   "execution_count": 13,
   "metadata": {},
   "outputs": [
    {
     "name": "stdout",
     "output_type": "stream",
     "text": [
      "predicted response:\n",
      "[4426.72517339 5005.01690945 6773.90927857 ...  925.38739331 2470.73841908\n",
      "  925.38739331]\n"
     ]
    }
   ],
   "source": [
    "#OR specify the input variable x(Profit) for which you want to use to make a prediction for y (Revenue)\n",
    "print(f\"predicted response:\\n{results.predict(x)}\")"
   ]
  },
  {
   "cell_type": "markdown",
   "metadata": {},
   "source": [
    "- Using the model to make a prediction of Revenue for a different set of Profit values\n",
    "- E.g. profit_new or x_new = ( $4,342.00 \n",
    " $1,426.00 \n",
    " $688.00 \n",
    " $1,426.00 \n",
    " $1,426.00 \n",
    " $1,426.00 \n",
    " $3,110.00 \n",
    " $2,504.00 \n",
    " $2,532.00 \n",
    " $2,532.00 \n",
    " $4,342.00 \n",
    " $688.00 \n",
    " $688.00 \n",
    " $688.00 )\n"
   ]
  },
  {
   "cell_type": "code",
   "execution_count": 15,
   "metadata": {},
   "outputs": [
    {
     "data": {
      "text/plain": [
       "array([  4., 342.,   1., 426., 688.,   1., 426.,   1., 426.,   3., 110.,\n",
       "         2., 504.,   2., 532.,   2., 532.,   4., 342., 688., 688., 688.])"
      ]
     },
     "execution_count": 15,
     "metadata": {},
     "output_type": "execute_result"
    }
   ],
   "source": [
    "#Gerating an array of the new Profits\n",
    "x_new=[4,342.00, 1,426.00, 688.00, 1,426.00, 1,426.00, 3,110.00, 2,504.00, 2,532.00, 2,532.00, 4,342.00, 688.00, 688.00, 688.00]\n",
    "#Transform the x and y variables as numpy arrays\n",
    "x_new, y = np.array(x_new), np.array(y)\n",
    "#√iew the x_new\n",
    "x_new\n"
   ]
  },
  {
   "cell_type": "code",
   "execution_count": 16,
   "metadata": {},
   "outputs": [],
   "source": [
    "#Add column of 1's to calculate intercept\n",
    "x_new = sm.add_constant(x_new)"
   ]
  },
  {
   "cell_type": "code",
   "execution_count": 17,
   "metadata": {},
   "outputs": [
    {
     "data": {
      "text/plain": [
       "array([ -53.82088246,  767.45057464,  -61.11027409,  971.5535403 ,\n",
       "       1608.16040941,  -61.11027409,  971.5535403 ,  -61.11027409,\n",
       "        971.5535403 ,  -56.25067967,  203.73762184,  -58.68047688,\n",
       "       1161.07772271,  -58.68047688, 1229.1120446 ,  -58.68047688,\n",
       "       1229.1120446 ,  -53.82088246,  767.45057464, 1608.16040941,\n",
       "       1608.16040941, 1608.16040941])"
      ]
     },
     "execution_count": 17,
     "metadata": {},
     "output_type": "execute_result"
    }
   ],
   "source": [
    "#Use the model to make a prediction of Revenue\n",
    "y_new = results.predict(x_new)\n",
    "#View prediction\n",
    "y_new"
   ]
  },
  {
   "cell_type": "markdown",
   "metadata": {},
   "source": [
    "**D. Generate a Linear Regression Model using Supervised Machine Learning**"
   ]
  },
  {
   "cell_type": "markdown",
   "metadata": {},
   "source": [
    "**i. Import Libraries for different ML Regressor algorithms**"
   ]
  },
  {
   "cell_type": "code",
   "execution_count": 18,
   "metadata": {},
   "outputs": [],
   "source": [
    "#Testing various ML Regression Models for Revenue\n",
    "from sklearn.model_selection import train_test_split, cross_val_score\n",
    "from sklearn.linear_model import LinearRegression\n",
    "from sklearn.tree import DecisionTreeRegressor\n",
    "from sklearn.ensemble import RandomForestRegressor\n",
    "from sklearn.metrics import mean_absolute_error, mean_squared_error, r2_score\n",
    "import numpy as np"
   ]
  },
  {
   "cell_type": "markdown",
   "metadata": {},
   "source": [
    "**ii. Split data in to training and testing data**\n",
    "- TRaining data: Used to train/supervise the learning of the ML algorithm (70-80% of dataset)\n",
    "- Testing data: Used to test the algorithm for it's accuracy in learning patterns (20-30% of dataset)"
   ]
  },
  {
   "cell_type": "code",
   "execution_count": 19,
   "metadata": {},
   "outputs": [],
   "source": [
    "#Use the train_test_split from sklearn library\n",
    "from sklearn.model_selection import train_test_split\n",
    "#Split the data (x=independent variable, y=Dependent variable)\n",
    "# Split the data into training and test sets (By 70% for training, 30% for testing)\n",
    "X_train, X_test, y_train, y_test = train_test_split(x, y, test_size=0.3, random_state=42)"
   ]
  },
  {
   "cell_type": "code",
   "execution_count": 20,
   "metadata": {},
   "outputs": [],
   "source": [
    "#Libraries for ML regressor algorithms\n",
    "from sklearn.linear_model import LinearRegression\n",
    "from sklearn.tree import DecisionTreeRegressor\n",
    "from sklearn.ensemble import RandomForestRegressor\n",
    "\n",
    "#List the regressor algorithms or just chose to use one\n",
    "models = {\n",
    "    \"Linear Regression\": LinearRegression(),\n",
    "    \"Decision Tree Regressor\": DecisionTreeRegressor(random_state=42),\n",
    "    \"Random Forest Regressor\": RandomForestRegressor(random_state=42),\n",
    "}"
   ]
  },
  {
   "cell_type": "markdown",
   "metadata": {},
   "source": [
    "**iii. Test the Algorithms**"
   ]
  },
  {
   "cell_type": "code",
   "execution_count": 21,
   "metadata": {},
   "outputs": [
    {
     "name": "stdout",
     "output_type": "stream",
     "text": [
      "Linear Regression:\n",
      "  MAE: 162.09\n",
      "  MSE: 58550.63\n",
      "  RMSE: 241.97\n",
      "  R²: 0.97\n",
      "\n",
      "Decision Tree Regressor:\n",
      "  MAE: 29.85\n",
      "  MSE: 8069.56\n",
      "  RMSE: 89.83\n",
      "  R²: 1.00\n",
      "\n",
      "Random Forest Regressor:\n",
      "  MAE: 30.42\n",
      "  MSE: 19866.43\n",
      "  RMSE: 140.95\n",
      "  R²: 0.99\n",
      "\n"
     ]
    }
   ],
   "source": [
    "# Function to evaluate and print model performance\n",
    "def evaluate_model(model, X_train, X_test, y_train, y_test):\n",
    "    model.fit(X_train, y_train)\n",
    "    y_pred = model.predict(X_test)\n",
    "    mae = mean_absolute_error(y_test, y_pred)\n",
    "    mse = mean_squared_error(y_test, y_pred)\n",
    "    rmse = np.sqrt(mse)\n",
    "    r2 = r2_score(y_test, y_pred)\n",
    "    return mae, mse, rmse, r2\n",
    "\n",
    "#USe the function to evaulate each algorithm\n",
    "# Evaluate each model\n",
    "results = {}\n",
    "for name, model in models.items():\n",
    "    mae, mse, rmse, r2 = evaluate_model(model, X_train, X_test, y_train, y_test)\n",
    "    results[name] = {'MAE': mae, 'MSE': mse, 'RMSE': rmse, 'R²': r2}\n",
    "\n",
    "# Print results\n",
    "for name, metrics in results.items():\n",
    "    print(f\"{name}:\")\n",
    "    print(f\"  MAE: {metrics['MAE']:.2f}\")\n",
    "    print(f\"  MSE: {metrics['MSE']:.2f}\")\n",
    "    print(f\"  RMSE: {metrics['RMSE']:.2f}\")\n",
    "    print(f\"  R²: {metrics['R²']:.2f}\\n\")"
   ]
  },
  {
   "cell_type": "markdown",
   "metadata": {},
   "source": [
    "The Decision Tree Regressor is the most accurate (R2=100%,) and has the lowest mean squared error (mse = 8096, rmse = 89.3)."
   ]
  },
  {
   "cell_type": "markdown",
   "metadata": {},
   "source": [
    "**iv. Save the most accurate model**"
   ]
  },
  {
   "cell_type": "code",
   "execution_count": 22,
   "metadata": {},
   "outputs": [
    {
     "name": "stdout",
     "output_type": "stream",
     "text": [
      "Model saved as Decision Tree Regressor Model called 'Revenue_predictor.joblib'.\n"
     ]
    }
   ],
   "source": [
    "# Saving the Decision Tree Regressor model as a joblib\n",
    "#One can also save it as a pickle\n",
    "#Pickles and Joblib saved models allow for automation of the model in Machine Learning\n",
    "import joblib\n",
    "joblib.dump(DecisionTreeRegressor(), 'Revenue_predictor.joblib')\n",
    "print(\"Model saved as Decision Tree Regressor Model called 'Revenue_predictor.joblib'.\")"
   ]
  },
  {
   "cell_type": "markdown",
   "metadata": {},
   "source": [
    "**v. Use the saved model to make predictions**"
   ]
  },
  {
   "cell_type": "code",
   "execution_count": 26,
   "metadata": {},
   "outputs": [
    {
     "name": "stdout",
     "output_type": "stream",
     "text": [
      "[  10.73972603  542.75          2.          663.85074627 1085.\n",
      "    2.          663.85074627    2.          663.85074627    5.09005629\n",
      "  175.13367609    5.94520548  796.18604651    5.94520548  840.\n",
      "    5.94520548  840.           10.73972603  542.75       1085.\n",
      " 1085.         1085.        ]\n"
     ]
    }
   ],
   "source": [
    "#Import model and used it\n",
    "import joblib\n",
    "# Load the saved model\n",
    "model1 = joblib.load('Revenue_predictor.joblib')\n",
    "model1.fit(X_train, y_train)\n",
    "# Make predictions using the test dataset (x_new)\n",
    "predictions = model1.predict(x_new)\n",
    "\n",
    "# Print or use the predictions as needed\n",
    "print(predictions)"
   ]
  },
  {
   "cell_type": "markdown",
   "metadata": {},
   "source": [
    "**vi. Save the predictions**"
   ]
  },
  {
   "cell_type": "code",
   "execution_count": 24,
   "metadata": {},
   "outputs": [
    {
     "name": "stdout",
     "output_type": "stream",
     "text": [
      "Revenue Prediction is saved as a csv.\n"
     ]
    }
   ],
   "source": [
    "# creating a pandas dataframe with predicted Revenue\n",
    "df=pd.DataFrame({'Revenue':predictions}) \n",
    "#Save the dataframe as a csv\n",
    "df.to_csv('Revenue_prediction.csv', index=False)\n",
    "print('Revenue Prediction is saved as a csv.')"
   ]
  },
  {
   "cell_type": "markdown",
   "metadata": {},
   "source": [
    "**vii. The model gets automated/deployed in any setup API using tools like Flask, Heroku, Azure etc**\n",
    "- Further reading can be found at https://www.projectpro.io/article/machine-learning-model-deployment/872\n"
   ]
  },
  {
   "cell_type": "markdown",
   "metadata": {},
   "source": [
    "**E. Alternately just use one Regression Algorithm for ML**"
   ]
  },
  {
   "cell_type": "code",
   "execution_count": null,
   "metadata": {},
   "outputs": [],
   "source": [
    "#Import libraries\n",
    "import numpy as np\n",
    "from sklearn.linear_model import LinearRegression\n",
    "\n",
    "#Select the dependent (y) and independent (x) and transform them as arrays\n",
    "#Already done above"
   ]
  },
  {
   "cell_type": "code",
   "execution_count": 32,
   "metadata": {},
   "outputs": [
    {
     "name": "stdout",
     "output_type": "stream",
     "text": [
      "coefficient of determination: 0.9725309525364424\n",
      "intercept: -63.54007129817796\n",
      "slope: [0.         2.42979721]\n"
     ]
    }
   ],
   "source": [
    "#Create the Linear REgression Model\n",
    "model3 = LinearRegression(fit_intercept=True) #fit_intercept is a Boolean that, if True, decides to calculate the intercept 𝑏₀ or, if False, considers it equal to zero\n",
    "\n",
    "#Fit the model to the variables\n",
    "model3.fit(x, y)\n",
    "\n",
    "#The above two codes can be combined as such\n",
    "model3 = LinearRegression(fit_intercept=True).fit(x, y)\n",
    "\n",
    "#Print results R2:\n",
    "r_sq = model3.score(x, y)\n",
    "print(f\"coefficient of determination: {r_sq}\")\n",
    "\n",
    "#Print the intercept (the value of Y when X is 0), and slope (how much Y changes for a one-unit change in X)\n",
    "print(f\"intercept: {model3.intercept_}\")\n",
    "print(f\"slope: {model3.coef_}\")"
   ]
  },
  {
   "cell_type": "markdown",
   "metadata": {},
   "source": [
    "         Results explained:\n",
    "- Coefficeient of determination (R2)=0.97 or 97% is how accurate the model is\n",
    "- Intercept (-65.54): The Revenue is -65.54 dollars when the PRofit is 0.\n",
    "- Slope (2.429): When profit increases by 1dollar, Revenue increases by 2.429 dollars. "
   ]
  },
  {
   "cell_type": "markdown",
   "metadata": {},
   "source": [
    "# 2. Multiple Linear Regression\n",
    "- Dependent variable is continuous\n",
    "- two or more independent variables\n",
    "- Similar approach to Simple linear regression"
   ]
  }
 ],
 "metadata": {
  "kernelspec": {
   "display_name": "Python 3",
   "language": "python",
   "name": "python3"
  },
  "language_info": {
   "codemirror_mode": {
    "name": "ipython",
    "version": 3
   },
   "file_extension": ".py",
   "mimetype": "text/x-python",
   "name": "python",
   "nbconvert_exporter": "python",
   "pygments_lexer": "ipython3",
   "version": "3.12.0"
  }
 },
 "nbformat": 4,
 "nbformat_minor": 2
}
